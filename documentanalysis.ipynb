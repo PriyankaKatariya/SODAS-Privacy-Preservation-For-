{
 "cells": [
  {
   "cell_type": "code",
   "execution_count": 5,
   "id": "6e8ab40c",
   "metadata": {},
   "outputs": [],
   "source": [
    "#pip install spacy gensim"
   ]
  },
  {
   "cell_type": "code",
   "execution_count": 6,
   "id": "1f81147f",
   "metadata": {},
   "outputs": [
    {
     "name": "stdout",
     "output_type": "stream",
     "text": [
      "Collecting python-docx\n",
      "  Obtaining dependency information for python-docx from https://files.pythonhosted.org/packages/5f/d8/6948f7ac00edf74bfa52b3c5e3073df20284bec1db466d13e668fe991707/python_docx-1.1.0-py3-none-any.whl.metadata\n",
      "  Downloading python_docx-1.1.0-py3-none-any.whl.metadata (2.0 kB)\n",
      "Requirement already satisfied: lxml>=3.1.0 in /Users/localadmin/anaconda3/lib/python3.11/site-packages (from python-docx) (4.9.3)\n",
      "Requirement already satisfied: typing-extensions in /Users/localadmin/anaconda3/lib/python3.11/site-packages (from python-docx) (4.10.0)\n",
      "Downloading python_docx-1.1.0-py3-none-any.whl (239 kB)\n",
      "\u001b[2K   \u001b[90m━━━━━━━━━━━━━━━━━━━━━━━━━━━━━━━━━━━━━━━━\u001b[0m \u001b[32m239.6/239.6 kB\u001b[0m \u001b[31m3.3 MB/s\u001b[0m eta \u001b[36m0:00:00\u001b[0ma \u001b[36m0:00:01\u001b[0m\n",
      "\u001b[?25hInstalling collected packages: python-docx\n",
      "Successfully installed python-docx-1.1.0\n",
      "Note: you may need to restart the kernel to use updated packages.\n"
     ]
    }
   ],
   "source": [
    "pip install python-docx"
   ]
  },
  {
   "cell_type": "code",
   "execution_count": 16,
   "id": "6ca4ac4f",
   "metadata": {},
   "outputs": [
    {
     "name": "stdout",
     "output_type": "stream",
     "text": [
      "Tokens: ['currently', 'ai', 'advancing', 'great', 'pace', 'deep', 'learning', 'contributor', 'good', 'understand', 'basics', 'deep', 'learning', 'changing', 'world', 'live', 'article', 'deep', 'learning', 'series', 'explain', 'different', 'deep', 'learning', 'models', 'coming', 'articles', 'series', 'content', 'inspired', 'udacity', 'deep', 'learning', 'course', 'images', 'taken', 'course', 'like', 'learn', 'deep', 'learning', 'details', 'encourage', 'enrol', 'udacityscourse', 'deep', 'learningdeep', 'learning', 'subfield', 'machine', 'learning', 'dealing', 'algorithms', 'inspired', 'structure', 'function', 'brain', 'called', 'artificial', 'neural', 'networks', 'words', 'mirrors', 'functioning', 'brains', 'deep', 'learning', 'algorithms', 'similar', 'nervous', 'system', 'structured', 'neuron', 'connected', 'passing', 'informationdeep', 'learning', 'models', 'work', 'layers', 'typical', 'model', 'atleast', 'layers', 'layer', 'accepts', 'information', 'previous', 'pass', 'oneslide', 'byandrew', 'ng', 'rights', 'reserveddeep', 'learning', 'models', 'tend', 'perform', 'ofdata', 'wheras', 'old', 'machine', 'learning', 'models', 'stops', 'improving', 'saturation', 'pointsourceone', 'differences', 'machine', 'learning', 'deep', 'learning', 'model', 'feature', 'extraction', 'area', 'feature', 'extraction', 'human', 'machine', 'learning', 'deep', 'learning', 'model', 'figure', 'linearlogistic', 'regressionwe', 'start', 'deep', 'learning', 'explaining', 'linear', 'logistics', 'regression', 'basis', 'deep', 'learninglinear', 'regressionit', 'statistical', 'method', 'allows', 'summarise', 'study', 'relationships', 'continuous', 'quantitative', 'variablessource', 'udacity', 'deep', 'learning', 'coursein', 'example', 'historical', 'data', 'based', 'size', 'house', 'plot', 'graph', 'seen', 'dot', 'points', 'linear', 'regression', 'technique', 'finding', 'straight', 'line', 'points', 'errorthis', 'explained', 'later', 'line', 'error', 'predict', 'house', 'price', 'based', 'size', 'housesourcehere', 'example', 'linear', 'regression', 'predict', 'joke', 'mannerlogistic', 'regressionit', 'statistical', 'method', 'analysing', 'dataset', 'independent', 'variables', 'determine', 'outcome', 'outcome', 'measured', 'possible', 'outcomes', 'true', 'falsesource', 'udacity', 'deep', 'learning', 'coursein', 'example', 'historical', 'dataset', 'student', 'passed', 'passed', 'based', 'grades', 'test', 'scores', 'need', 'know', 'student', 'pass', 'based', 'grade', 'test', 'score', 'logistic', 'regression', 'logistic', 'regression', 'similar', 'linear', 'regression', 'find', 'best', 'possible', 'straight', 'line', 'separate', 'classificationpassed', 'passed', 'activation', 'functionactivation', 'functions', 'functions', 'decide', 'given', 'inputs', 'node', 'nodes', 'output', 'activation', 'function', 'decides', 'actual', 'output', 'refer', 'outputs', 'layer', 'activationsone', 'simplest', 'activation', 'functions', 'theheaviside', 'step', 'function', 'function', 'returns', 'aif', 'linear', 'combination', 'returns', 'aif', 'linear', 'combination', 'positive', 'equal', 'zerosource', 'udacity', 'deep', 'learning', 'coursethe', 'output', 'unit', 'returns', 'result', 'fh', 'h', 'input', 'output', 'unit', 'weightswhen', 'input', 'data', 'comes', 'neuron', 'gets', 'multiplied', 'weight', 'value', 'assigned', 'particular', 'input', 'example', 'neuron', 'university', 'example', 'inputs', 'tests', 'test', 'scores', 'grades', 'associated', 'weights', 'adjusted', 'individuallyuse', 'weightsthese', 'weights', 'start', 'random', 'values', 'neural', 'network', 'learns', 'kind', 'input', 'data', 'leads', 'student', 'accepted', 'university', 'network', 'adjusts', 'weights', 'based', 'errors', 'categorization', 'previous', 'weights', 'resulted', 'calledtrainingthe', 'neural', 'networkremember', 'associate', 'weight', 'mslope', 'orginal', 'linear', 'equationy', 'mxb', 'biasweights', 'biases', 'learnable', 'parameters', 'deep', 'learning', 'modelsbias', 'represented', 'b', 'linear', 'equationreferencehttpswwwquoracomwhatisbiasinartificialneuralnetwork', 'neural', 'networkas', 'explained', 'deep', 'learning', 'subfield', 'machine', 'learning', 'dealing', 'algorithms', 'inspired', 'structure', 'function', 'brain', 'called', 'artificial', 'neural', 'networks', 'explain', 'construct', 'simple', 'neural', 'network', 'example', 'example', 'logistic', 'regression', 'technique', 'separate', 'data', 'single', 'line', 'time', 'classify', 'dataset', 'single', 'line', 'high', 'accuracy']\n",
      "\n",
      "POS Tags: [('currently', 'ADV'), ('ai', 'AUX'), ('advancing', 'VERB'), ('great', 'ADJ'), ('pace', 'NOUN'), ('deep', 'ADJ'), ('learning', 'VERB'), ('contributor', 'NOUN'), ('good', 'NOUN'), ('understand', 'VERB'), ('basics', 'NOUN'), ('deep', 'ADJ'), ('learning', 'VERB'), ('changing', 'VERB'), ('world', 'NOUN'), ('live', 'ADJ'), ('article', 'NOUN'), ('deep', 'ADJ'), ('learning', 'VERB'), ('series', 'NOUN'), ('explain', 'VERB'), ('different', 'ADJ'), ('deep', 'ADJ'), ('learning', 'NOUN'), ('models', 'NOUN'), ('coming', 'VERB'), ('articles', 'NOUN'), ('series', 'PROPN'), ('content', 'PROPN'), ('inspired', 'VERB'), ('udacity', 'NOUN'), ('deep', 'ADJ'), ('learning', 'VERB'), ('course', 'NOUN'), ('images', 'NOUN'), ('taken', 'VERB'), ('course', 'ADV'), ('like', 'INTJ'), ('learn', 'VERB'), ('deep', 'ADJ'), ('learning', 'NOUN'), ('details', 'NOUN'), ('encourage', 'VERB'), ('enrol', 'VERB'), ('udacityscourse', 'ADJ'), ('deep', 'ADJ'), ('learningdeep', 'NOUN'), ('learning', 'VERB'), ('subfield', 'NOUN'), ('machine', 'NOUN'), ('learning', 'VERB'), ('dealing', 'VERB'), ('algorithms', 'NOUN'), ('inspired', 'VERB'), ('structure', 'NOUN'), ('function', 'NOUN'), ('brain', 'NOUN'), ('called', 'VERB'), ('artificial', 'ADJ'), ('neural', 'ADJ'), ('networks', 'NOUN'), ('words', 'VERB'), ('mirrors', 'NOUN'), ('functioning', 'VERB'), ('brains', 'NOUN'), ('deep', 'ADJ'), ('learning', 'NOUN'), ('algorithms', 'VERB'), ('similar', 'ADJ'), ('nervous', 'ADJ'), ('system', 'NOUN'), ('structured', 'VERB'), ('neuron', 'PROPN'), ('connected', 'VERB'), ('passing', 'VERB'), ('informationdeep', 'NOUN'), ('learning', 'NOUN'), ('models', 'NOUN'), ('work', 'VERB'), ('layers', 'NOUN'), ('typical', 'ADJ'), ('model', 'NOUN'), ('atleast', 'ADJ'), ('layers', 'NOUN'), ('layer', 'NOUN'), ('accepts', 'VERB'), ('information', 'NOUN'), ('previous', 'ADJ'), ('pass', 'NOUN'), ('oneslide', 'NOUN'), ('byandrew', 'NOUN'), ('ng', 'PROPN'), ('rights', 'NOUN'), ('reserveddeep', 'PROPN'), ('learning', 'NOUN'), ('models', 'NOUN'), ('tend', 'VERB'), ('perform', 'VERB'), ('ofdata', 'PROPN'), ('wheras', 'PROPN'), ('old', 'ADJ'), ('machine', 'NOUN'), ('learning', 'NOUN'), ('models', 'NOUN'), ('stops', 'VERB'), ('improving', 'VERB'), ('saturation', 'NOUN'), ('pointsourceone', 'NOUN'), ('differences', 'NOUN'), ('machine', 'NOUN'), ('learning', 'VERB'), ('deep', 'ADJ'), ('learning', 'NOUN'), ('model', 'NOUN'), ('feature', 'NOUN'), ('extraction', 'NOUN'), ('area', 'NOUN'), ('feature', 'NOUN'), ('extraction', 'NOUN'), ('human', 'ADJ'), ('machine', 'NOUN'), ('learning', 'VERB'), ('deep', 'ADJ'), ('learning', 'NOUN'), ('model', 'NOUN'), ('figure', 'NOUN'), ('linearlogistic', 'ADJ'), ('regressionwe', 'NOUN'), ('start', 'VERB'), ('deep', 'ADJ'), ('learning', 'NOUN'), ('explaining', 'VERB'), ('linear', 'ADJ'), ('logistics', 'NOUN'), ('regression', 'NOUN'), ('basis', 'NOUN'), ('deep', 'ADJ'), ('learninglinear', 'NOUN'), ('regressionit', 'NOUN'), ('statistical', 'ADJ'), ('method', 'NOUN'), ('allows', 'VERB'), ('summarise', 'NOUN'), ('study', 'NOUN'), ('relationships', 'NOUN'), ('continuous', 'ADJ'), ('quantitative', 'ADJ'), ('variablessource', 'NOUN'), ('udacity', 'NOUN'), ('deep', 'ADV'), ('learning', 'VERB'), ('coursein', 'PROPN'), ('example', 'NOUN'), ('historical', 'ADJ'), ('data', 'NOUN'), ('based', 'VERB'), ('size', 'NOUN'), ('house', 'NOUN'), ('plot', 'NOUN'), ('graph', 'NOUN'), ('seen', 'VERB'), ('dot', 'NOUN'), ('points', 'NOUN'), ('linear', 'ADJ'), ('regression', 'NOUN'), ('technique', 'NOUN'), ('finding', 'VERB'), ('straight', 'ADJ'), ('line', 'NOUN'), ('points', 'NOUN'), ('errorthis', 'PROPN'), ('explained', 'VERB'), ('later', 'ADJ'), ('line', 'NOUN'), ('error', 'NOUN'), ('predict', 'VERB'), ('house', 'NOUN'), ('price', 'NOUN'), ('based', 'VERB'), ('size', 'NOUN'), ('housesourcehere', 'ADJ'), ('example', 'NOUN'), ('linear', 'PROPN'), ('regression', 'NOUN'), ('predict', 'VERB'), ('joke', 'NOUN'), ('mannerlogistic', 'PROPN'), ('regressionit', 'PROPN'), ('statistical', 'ADJ'), ('method', 'NOUN'), ('analysing', 'VERB'), ('dataset', 'ADJ'), ('independent', 'ADJ'), ('variables', 'NOUN'), ('determine', 'VERB'), ('outcome', 'NOUN'), ('outcome', 'NOUN'), ('measured', 'VERB'), ('possible', 'ADJ'), ('outcomes', 'NOUN'), ('true', 'ADJ'), ('falsesource', 'NOUN'), ('udacity', 'NOUN'), ('deep', 'ADV'), ('learning', 'VERB'), ('coursein', 'PROPN'), ('example', 'NOUN'), ('historical', 'ADJ'), ('dataset', 'NOUN'), ('student', 'NOUN'), ('passed', 'VERB'), ('passed', 'VERB'), ('based', 'VERB'), ('grades', 'NOUN'), ('test', 'NOUN'), ('scores', 'NOUN'), ('need', 'VERB'), ('know', 'VERB'), ('student', 'NOUN'), ('pass', 'VERB'), ('based', 'VERB'), ('grade', 'NOUN'), ('test', 'NOUN'), ('score', 'NOUN'), ('logistic', 'ADJ'), ('regression', 'NOUN'), ('logistic', 'ADJ'), ('regression', 'NOUN'), ('similar', 'ADJ'), ('linear', 'ADJ'), ('regression', 'NOUN'), ('find', 'VERB'), ('best', 'ADV'), ('possible', 'ADJ'), ('straight', 'ADJ'), ('line', 'NOUN'), ('separate', 'ADJ'), ('classificationpassed', 'ADJ'), ('passed', 'VERB'), ('activation', 'NOUN'), ('functionactivation', 'NOUN'), ('functions', 'NOUN'), ('functions', 'NOUN'), ('decide', 'VERB'), ('given', 'VERB'), ('inputs', 'NOUN'), ('node', 'PROPN'), ('nodes', 'PROPN'), ('output', 'NOUN'), ('activation', 'NOUN'), ('function', 'NOUN'), ('decides', 'VERB'), ('actual', 'ADJ'), ('output', 'NOUN'), ('refer', 'VERB'), ('outputs', 'NOUN'), ('layer', 'NOUN'), ('activationsone', 'NOUN'), ('simplest', 'ADJ'), ('activation', 'NOUN'), ('functions', 'NOUN'), ('theheaviside', 'NOUN'), ('step', 'NOUN'), ('function', 'NOUN'), ('function', 'NOUN'), ('returns', 'NOUN'), ('aif', 'PROPN'), ('linear', 'ADJ'), ('combination', 'NOUN'), ('returns', 'VERB'), ('aif', 'PROPN'), ('linear', 'PROPN'), ('combination', 'NOUN'), ('positive', 'ADJ'), ('equal', 'ADJ'), ('zerosource', 'NOUN'), ('udacity', 'NOUN'), ('deep', 'ADV'), ('learning', 'VERB'), ('coursethe', 'DET'), ('output', 'NOUN'), ('unit', 'NOUN'), ('returns', 'NOUN'), ('result', 'VERB'), ('fh', 'PROPN'), ('h', 'PROPN'), ('input', 'NOUN'), ('output', 'NOUN'), ('unit', 'NOUN'), ('weightswhen', 'PROPN'), ('input', 'PROPN'), ('data', 'NOUN'), ('comes', 'VERB'), ('neuron', 'PROPN'), ('gets', 'VERB'), ('multiplied', 'VERB'), ('weight', 'NOUN'), ('value', 'NOUN'), ('assigned', 'VERB'), ('particular', 'ADJ'), ('input', 'NOUN'), ('example', 'NOUN'), ('neuron', 'PROPN'), ('university', 'PROPN'), ('example', 'NOUN'), ('inputs', 'VERB'), ('tests', 'NOUN'), ('test', 'NOUN'), ('scores', 'NOUN'), ('grades', 'NOUN'), ('associated', 'VERB'), ('weights', 'NOUN'), ('adjusted', 'VERB'), ('individuallyuse', 'NOUN'), ('weightsthese', 'ADJ'), ('weights', 'NOUN'), ('start', 'VERB'), ('random', 'ADJ'), ('values', 'NOUN'), ('neural', 'ADJ'), ('network', 'NOUN'), ('learns', 'VERB'), ('kind', 'ADJ'), ('input', 'NOUN'), ('data', 'NOUN'), ('leads', 'VERB'), ('student', 'NOUN'), ('accepted', 'VERB'), ('university', 'NOUN'), ('network', 'NOUN'), ('adjusts', 'VERB'), ('weights', 'VERB'), ('based', 'VERB'), ('errors', 'NOUN'), ('categorization', 'VERB'), ('previous', 'ADJ'), ('weights', 'NOUN'), ('resulted', 'VERB'), ('calledtrainingthe', 'PROPN'), ('neural', 'ADJ'), ('networkremember', 'NOUN'), ('associate', 'NOUN'), ('weight', 'NOUN'), ('mslope', 'VERB'), ('orginal', 'ADJ'), ('linear', 'ADJ'), ('equationy', 'NOUN'), ('mxb', 'NOUN'), ('biasweights', 'NOUN'), ('biases', 'VERB'), ('learnable', 'ADJ'), ('parameters', 'NOUN'), ('deep', 'ADJ'), ('learning', 'VERB'), ('modelsbias', 'NOUN'), ('represented', 'VERB'), ('b', 'DET'), ('linear', 'ADJ'), ('equationreferencehttpswwwquoracomwhatisbiasinartificialneuralnetwork', 'NOUN'), ('neural', 'ADJ'), ('networkas', 'NOUN'), ('explained', 'VERB'), ('deep', 'ADJ'), ('learning', 'VERB'), ('subfield', 'NOUN'), ('machine', 'NOUN'), ('learning', 'VERB'), ('dealing', 'VERB'), ('algorithms', 'NOUN'), ('inspired', 'VERB'), ('structure', 'NOUN'), ('function', 'NOUN'), ('brain', 'NOUN'), ('called', 'VERB'), ('artificial', 'ADJ'), ('neural', 'ADJ'), ('networks', 'NOUN'), ('explain', 'VERB'), ('construct', 'VERB'), ('simple', 'ADJ'), ('neural', 'ADJ'), ('network', 'NOUN'), ('example', 'NOUN'), ('example', 'NOUN'), ('logistic', 'ADJ'), ('regression', 'NOUN'), ('technique', 'NOUN'), ('separate', 'ADJ'), ('data', 'NOUN'), ('single', 'ADJ'), ('line', 'NOUN'), ('time', 'NOUN'), ('classify', 'VERB'), ('dataset', 'ADJ'), ('single', 'ADJ'), ('line', 'NOUN'), ('high', 'ADJ'), ('accuracy', 'NOUN')]\n",
      "\n",
      "Named Entities: [('coursein', 'PERSON'), ('size house', 'ORG'), ('linear', 'ORG'), ('coursein', 'PERSON'), ('node', 'ORG'), ('linear', 'ORG'), ('linear', 'ORG'), ('neuron university', 'ORG'), ('weightsthese', 'NORP'), ('linear', 'ORG')]\n",
      "\n",
      "Summary: \n"
     ]
    }
   ],
   "source": [
    "import os\n",
    "import spacy\n",
    "from spacy.lang.en.stop_words import STOP_WORDS\n",
    "from summa import summarizer\n",
    "from docx import Document\n",
    "nlp = spacy.load(\"en_core_web_sm\")\n",
    "\n",
    "def load_document(file_path):\n",
    "    doc = Document(file_path)\n",
    "    text = \"\"\n",
    "    for para in doc.paragraphs:\n",
    "        text += para.text + \"\\n\"\n",
    "    return text\n",
    "def preprocess_text(text):\n",
    "    text = ''.join([char for char in text if char.isalpha() or char == ' '])\n",
    "    text = text.lower()\n",
    "    text = ' '.join([word for word in text.split() if word not in STOP_WORDS])\n",
    "\n",
    "    return text\n",
    "\n",
    "# Tokenization, POS tagging, NER\n",
    "def analyze_text(text):\n",
    "    doc = nlp(text)\n",
    "    tokens = [token.text for token in doc]\n",
    "    pos_tags = [(token.text, token.pos_) for token in doc]\n",
    "    ner = [(ent.text, ent.label_) for ent in doc.ents]\n",
    "    return tokens, pos_tags, ner\n",
    "\n",
    "def extractive_summarization(text, ratio=0.2):\n",
    "    summary = summarizer.summarize(text, ratio=ratio)\n",
    "    return summary\n",
    "\n",
    "file_path = \"/Users/localadmin/Desktop/dldocse.docx\"\n",
    "text = load_document(file_path)\n",
    "preprocessed_text = preprocess_text(text)\n",
    "tokens, pos_tags, ner = analyze_text(preprocessed_text)\n",
    "summary = extractive_summarization(preprocessed_text)\n",
    "print(\"Tokens:\", tokens)\n",
    "print(\"\\nPOS Tags:\", pos_tags)\n",
    "print(\"\\nNamed Entities:\", ner)\n",
    "print(\"\\nSummary:\", summary)\n"
   ]
  },
  {
   "cell_type": "code",
   "execution_count": 15,
   "id": "91b8e9b4",
   "metadata": {},
   "outputs": [],
   "source": [
    "#pip install summa"
   ]
  },
  {
   "cell_type": "code",
   "execution_count": 17,
   "id": "c5d1204e",
   "metadata": {},
   "outputs": [
    {
     "name": "stdout",
     "output_type": "stream",
     "text": [
      "Text extracted successfully:\n",
      "Currently, AI is advancing in a great pace and deep learning is one of the contributor to that. It is good to understand the basics of deep learning as they are changing the world we live. This is the first article in deep learning series and will explain different deep learning models in coming articles in the series. The content is inspired from the Udacity deep learning course and some of the images are taken from the course. If you would like to learn deep learning in details, I encourage you to enrol to the Udacity’s course.\n",
      "\n",
      "1. Deep Learning\n",
      "\n",
      "\n",
      "\n",
      "Deep learning is a sub-field of machine learning dealing with algorithms inspired by the structure and function of the brain called artificial neural networks. In other words, It mirrors the functioning of our brains. Deep learning algorithms are similar to how nervous system structured where each neuron connected each other and passing information.\n",
      "\n",
      "\n",
      "\n",
      "Deep learning models work in layers and a typical model atleast have three layers. Each layer accepts the information from previous and pass it on to the next one.\n",
      "\n",
      "\n",
      "\n",
      "Slide by Andrew Ng, all rights reserved.\n",
      "\n",
      "Deep learning models tend to perform well with amount ofdata wheras old machine learning models stops improving after a saturation point.\n",
      "\n",
      "\n",
      "\n",
      "Source\n",
      "\n",
      "One of differences between machine learning and deep learning model is on the feature extraction area. Feature extraction is done by human in machine learning whereas deep learning model figure out by itself.\n",
      "\n",
      "2. Linear/Logistic Regression\n",
      "\n",
      "We cannot start deep learning without explaining linear and logistics regression which is the basis of deep learning.\n",
      "\n",
      "Linear regression\n",
      "\n",
      "It is a statistical method that allows us to summarise and study relationships between two continuous (quantitative) variables.\n",
      "\n",
      "\n",
      "\n",
      "Source: Udacity deep learning course\n",
      "\n",
      "In this example, we have historical data based on the size of the house. We plot them into the graph as seen as dot points. Linear regression is the technique where finding a straight line between these points with less error(this will be explained later). Once we have a line with less error, we can predict the house price based on the size of the house.\n",
      "\n",
      "\n",
      "\n",
      "Source\n",
      "\n",
      "Here is another example how linear regression predict in a joke manner.\n",
      "\n",
      "Logistic regression\n",
      "\n",
      "It is a statistical method for analysing a dataset in which there are one or more independent variables that determine an outcome. The outcome is measured in which there are only two possible outcomes: True or False.\n",
      "\n",
      "\n",
      "\n",
      "Source: Udacity deep learning course\n",
      "\n",
      "In this example, we have historical dataset of student which have passed and not passed based on the grades and test scores. If we need to know a student will pass or not based on the grade and test score, logistic regression can be used. In logistic regression, similar to linear regression, it will find best possible straight line that separate the two classification(passed and not passed).\n",
      "\n",
      "3. Activation Function\n",
      "\n",
      "Activation functions are functions that decide, given the inputs into the node, what should be the node’s output? Because it’s the activation function that decides the actual output, we often refer to the outputs of a layer as its “activations”.\n",
      "\n",
      "One of the simplest activation functions is the Heaviside step function. This function returns a 0 if the linear combination is less than 0. It returns a 1 if the linear combination is positive or equal to zero.\n",
      "\n",
      "\n",
      "\n",
      "Source: Udacity deep learning course\n",
      "\n",
      "The output unit returns the result of f(h), where h is the input to the output unit:\n",
      "\n",
      "4. Weights\n",
      "\n",
      "When input data comes into a neuron, it gets multiplied by a weight value that is assigned to this particular input. For example, the neuron above university example have two inputs, tests for test scores and grades, so it has two associated weights that can be adjusted individually.\n",
      "\n",
      "Use of weights\n",
      "\n",
      "These weights start out as random values, and as the neural network learns more about what kind of input data leads to a student being accepted into a university, the network adjusts the weights based on any errors in categorization that the previous weights resulted in. This is called training the neural network.\n",
      "\n",
      "Remember we can associate weight as m(slope) in the orginal linear equation.\n",
      "\n",
      "y = mx+b\n",
      "\n",
      "5. Bias\n",
      "\n",
      "Weights and biases are the learnable parameters of the deep learning models.\n",
      "\n",
      "Bias represented as b in the above linear equation.\n",
      "\n",
      "Reference:\n",
      "\n",
      "https://www.quora.com/What-is-bias-in-artificial-neural-network\n",
      "\n",
      "6. Neural Network\n",
      "\n",
      "As explained above, deep learning is a sub-field of machine learning dealing with algorithms inspired by the structure and function of the brain called artificial neural networks. I will explain here how we can construct a simple neural network from the example. In the above example, Logistic regression is the technique to be used to separate data using single line. But most of the time we cannot classify the dataset using a single line with high accuracy.\n"
     ]
    }
   ],
   "source": [
    "import docx2txt\n",
    "\n",
    "# extract text\n",
    "text = docx2txt.process(\"/Users/localadmin/Desktop/dldocse.docx\") \n",
    "\n",
    "if text:\n",
    "    print(\"Text extracted successfully:\")\n",
    "    print(text)\n",
    "else:\n",
    "    print(\"No text extracted from the document.\")"
   ]
  },
  {
   "cell_type": "code",
   "execution_count": null,
   "id": "88520782",
   "metadata": {},
   "outputs": [],
   "source": []
  }
 ],
 "metadata": {
  "kernelspec": {
   "display_name": "Python 3 (ipykernel)",
   "language": "python",
   "name": "python3"
  },
  "language_info": {
   "codemirror_mode": {
    "name": "ipython",
    "version": 3
   },
   "file_extension": ".py",
   "mimetype": "text/x-python",
   "name": "python",
   "nbconvert_exporter": "python",
   "pygments_lexer": "ipython3",
   "version": "3.11.5"
  }
 },
 "nbformat": 4,
 "nbformat_minor": 5
}
