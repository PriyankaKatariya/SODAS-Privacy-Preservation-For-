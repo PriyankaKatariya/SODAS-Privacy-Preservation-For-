{
 "cells": [
  {
   "cell_type": "code",
   "execution_count": null,
   "id": "83c14572",
   "metadata": {},
   "outputs": [
    {
     "name": "stderr",
     "output_type": "stream",
     "text": [
      "2024-05-07 11:51:13.886044: I tensorflow/core/platform/cpu_feature_guard.cc:182] This TensorFlow binary is optimized to use available CPU instructions in performance-critical operations.\n",
      "To enable the following instructions: AVX2 FMA, in other operations, rebuild TensorFlow with the appropriate compiler flags.\n",
      "/Users/localadmin/anaconda3/lib/python3.11/site-packages/pandas/core/arrays/masked.py:60: UserWarning: Pandas requires version '1.3.6' or newer of 'bottleneck' (version '1.3.5' currently installed).\n",
      "  from pandas.core import (\n",
      "/Users/localadmin/anaconda3/lib/python3.11/site-packages/transformers/utils/generic.py:260: UserWarning: torch.utils._pytree._register_pytree_node is deprecated. Please use torch.utils._pytree.register_pytree_node instead.\n",
      "  torch.utils._pytree._register_pytree_node(\n",
      "No model was supplied, defaulted to sshleifer/distilbart-cnn-12-6 and revision a4f8f3e (https://huggingface.co/sshleifer/distilbart-cnn-12-6).\n",
      "Using a pipeline without specifying a model name and revision in production is not recommended.\n",
      "Your max_length is set to 496, but your input_length is only 363. Since this is a summarization task, where outputs shorter than the input are typically wanted, you might consider decreasing max_length manually, e.g. summarizer('...', max_length=181)\n"
     ]
    },
    {
     "name": "stdout",
     "output_type": "stream",
     "text": [
      "Original Document with Masked PII:\n",
      "<REDACTED>, I want to talk to you about the power of document summarization, a transformative \n",
      "tool in our information -driven world. Imagine a scenario where you're inundated with a \n",
      "mountain of documents, reports, and articles, each containing vital information. How do \n",
      "you sift through this sea of data to find what truly matters? This is where document \n",
      "summarization comes into play, and let me illustrate its importance through the story of \n",
      "<REDACTED> Doe. <REDACTED> is a busy executive, working in google, tas ked with staying abreast of \n",
      "industry trends, market analysis, and competitor strategies. <REDACTED>, she receives \n",
      "countless reports and articles, each containing valuable insights crucial for her decision -\n",
      "making process. However, the sheer volume of informa tion overwhelms her, leaving her \n",
      "struggling to prioritize and extract key points efficiently. Enter document summarization. By \n",
      "leveraging this technology, <REDACTED> can now streamline her workflow significantly. With just a \n",
      "click of a button, lengthy document s are condensed into concise summaries, highlighting \n",
      "the most relevant information. Suddenly, <REDACTED> can grasp the essence of complex reports in \n",
      "a fraction of the time, enabling her to make informed decisions swiftly and confidently. But \n",
      "document summariza tion isn't just about saving time; it's about unlocking potential. <REDACTED> \n",
      "now has the bandwidth to delve deeper into critical issues, explore innovative strategies, \n",
      "and drive meaningful change within her organization. In a world where information \n",
      "overload is the norm, document summarization empowers individuals like <REDACTED> to navigate \n",
      "the digital landscape with clarity and purpose.   \n",
      "  \n",
      "\n",
      "Summarized Document:\n",
      " The power of document summarization is a transformative tool in our information -driven world . Janice Doe is a busy executive, working in google, tas ked with staying abreast of  industry trends, market analysis, and competitor strategies . With just a click of a button, lengthy document s are condensed into concise summaries, highlighting the most relevant information . Suddenly, Janice can grasp the essence of complex reports in a fraction of the time, enabling her to make informed decisions swiftly and confidently . She now has the bandwidth to delve deeper into critical issues, explore innovative strategies,  and drive meaningful change within her organization .\n"
     ]
    }
   ],
   "source": [
    "import tkinter as tk\n",
    "from tkinter import filedialog\n",
    "import spacy\n",
    "import nltk\n",
    "from nltk.tokenize import sent_tokenize\n",
    "import PyPDF2\n",
    "from transformers import pipeline\n",
    "nlp = spacy.load(\"en_core_web_sm\")\n",
    "#nltk.download('punkt')\n",
    "\n",
    "def extract_text_from_pdf(file_path):\n",
    "    with open(file_path, 'rb') as file:\n",
    "        reader = PyPDF2.PdfReader(file)\n",
    "        text = \"\"\n",
    "        for page_num in range(len(reader.pages)):\n",
    "            page = reader.pages[page_num]\n",
    "            text += page.extract_text()\n",
    "    return text\n",
    "\n",
    "def mask_pii(text):\n",
    "    pii_labels = [\"PERSON\", \"ORG\", \"DATE\", \"TIME\", \"LOCATION\", \"CARDINAL\"]\n",
    "    doc = nlp(text)\n",
    "    for ent in doc.ents:\n",
    "        if ent.label_ in pii_labels:\n",
    "            text = text.replace(ent.text, \"<REDACTED>\")\n",
    "    return text\n",
    "\n",
    "\n",
    "summarizer = pipeline('summarization')\n",
    "\n",
    "def summarize_document(text):\n",
    "    text_length = len(text.split())\n",
    "    \n",
    "    max_length = min(2 * text_length, 512)\n",
    "    min_length = max(text_length // 2, 50)\n",
    "    \n",
    "    summary = summarizer(text, max_length=max_length, min_length=min_length, do_sample=False)[0]['summary_text']\n",
    "    return summary\n",
    "\n",
    "\n",
    "def process_document(file_path):\n",
    "    if file_path.lower().endswith('.pdf'):\n",
    "        original_text = extract_text_from_pdf(file_path)\n",
    "    else:\n",
    "        with open(file_path, 'r') as file:\n",
    "            original_text = file.read()\n",
    "    \n",
    "    masked_text = mask_pii(original_text)\n",
    "    summarized_text = summarize_document(original_text)\n",
    "    \n",
    "    print(\"Original Document with Masked PII:\")\n",
    "    print(masked_text)\n",
    "    print(\"\\nSummarized Document:\")\n",
    "    print(summarized_text)\n",
    "    \n",
    "    display_gui(summarized_text)\n",
    "\n",
    "def display_gui(summary):\n",
    "    root = tk.Tk()\n",
    "    root.title(\"SODAS\")\n",
    "    root.geometry(\"600x400\") \n",
    "    \n",
    "    root.iconbitmap('/Users/localadmin/Desktop/lic_launcher.ico')  \n",
    "    \n",
    "    root.configure(bg=\"#FFC0CB\")\n",
    "\n",
    "    label = tk.Label(root, text=\"Secure Summary:\", bg=\"#f0f0f0\", fg=\"black\", font=(\"Arial\", 16, \"bold\"))  \n",
    "    label.pack(pady=10)\n",
    "\n",
    "    text = tk.Text(root, bg=\"white\", fg=\"black\", font=(\"Arial\", 14)) \n",
    "    text.insert(tk.END, summary)\n",
    "    text.pack(expand=True, fill=\"both\", padx=20, pady=5)  \n",
    "\n",
    "    root.mainloop()\n",
    "\n",
    "def main():\n",
    "    file_path = filedialog.askopenfilename()\n",
    "    if file_path:\n",
    "        process_document(file_path)\n",
    "\n",
    "if __name__ == \"__main__\":\n",
    "    main()"
   ]
  },
  {
   "cell_type": "markdown",
   "id": "bff6c98e",
   "metadata": {},
   "source": [
    "# T5"
   ]
  },
  {
   "cell_type": "code",
   "execution_count": null,
   "id": "6751b1a5",
   "metadata": {},
   "outputs": [],
   "source": [
    "from transformers import pipeline, AutoTokenizer, AutoModelForSeq2SeqLM\n",
    "import re\n",
    "import spacy\n",
    "\n",
    "tokenizer = AutoTokenizer.from_pretrained(\"t5-base\")\n",
    "model = AutoModelForSeq2SeqLM.from_pretrained(\"t5-base\")\n",
    "summarization_pipeline = pipeline(\"summarization\", model=model, tokenizer=tokenizer)"
   ]
  },
  {
   "cell_type": "code",
   "execution_count": null,
   "id": "20516945",
   "metadata": {},
   "outputs": [
    {
     "name": "stderr",
     "output_type": "stream",
     "text": [
      "2024-05-07 11:36:32.351911: I tensorflow/core/platform/cpu_feature_guard.cc:182] This TensorFlow binary is optimized to use available CPU instructions in performance-critical operations.\n",
      "To enable the following instructions: AVX2 FMA, in other operations, rebuild TensorFlow with the appropriate compiler flags.\n",
      "/Users/localadmin/anaconda3/lib/python3.11/site-packages/pandas/core/arrays/masked.py:60: UserWarning: Pandas requires version '1.3.6' or newer of 'bottleneck' (version '1.3.5' currently installed).\n",
      "  from pandas.core import (\n",
      "/Users/localadmin/anaconda3/lib/python3.11/site-packages/transformers/utils/generic.py:260: UserWarning: torch.utils._pytree._register_pytree_node is deprecated. Please use torch.utils._pytree.register_pytree_node instead.\n",
      "  torch.utils._pytree._register_pytree_node(\n",
      "/Users/localadmin/anaconda3/lib/python3.11/site-packages/transformers/models/t5/tokenization_t5_fast.py:155: FutureWarning: This tokenizer was incorrectly instantiated with a model max length of 512 which will be corrected in Transformers v5.\n",
      "For now, this behavior is kept to avoid breaking backwards compatibility when padding/encoding with `truncation is True`.\n",
      "- Be aware that you SHOULD NOT rely on t5-base automatically truncating your input to 512 when padding/encoding.\n",
      "- If you want to encode/pad to sequences longer than 512 you can either instantiate this tokenizer with `model_max_length` or pass `max_length` when encoding/padding.\n",
      "- To avoid this warning, please instantiate this tokenizer with `model_max_length` set to your preferred value.\n",
      "  warnings.warn(\n",
      "Your max_length is set to 468, but your input_length is only 316. Since this is a summarization task, where outputs shorter than the input are typically wanted, you might consider decreasing max_length manually, e.g. summarizer('...', max_length=158)\n"
     ]
    },
    {
     "name": "stdout",
     "output_type": "stream",
     "text": [
      "Original Document with Masked PII:\n",
      "Good <REDACTED> everyone, I am <REDACTED>, a student at <REDACTED> Colorado, pursuing my \n",
      "Masters in <REDACTED>. I am <REDACTED> and originally from Michigan. In <REDACTED>'s \n",
      "interconnected world, where our lives are increasingly digitized, the importance of \n",
      "cybersecurity cannot be overstated. From personal data to national security, the threats we \n",
      "face in cyberspace are ever -evolving and require our utmost attention and \n",
      "diligence.<REDACTED> is not merely a technical issue; it's a societal imperative. Every  \n",
      "individual, every organization, and every government has a role to play in safeguarding our \n",
      "digital infrastructure. We must recognize that the consequences of a cyber attack can be \n",
      "severe, ranging from financial loss to the compromise of sensitive informa tion, and even to \n",
      "threats against our way of life. As we embrace the conveniences of the digital age, we must \n",
      "also embrace the responsibility that comes with it. This means staying informed about \n",
      "potential threats, practicing good cyber hygiene, and advoca ting for policies that prioritize \n",
      "cybersecurity. But it's not just about defense; it's also about innovation. By investing in \n",
      "cybersecurity research and education, we can stay ahead of emerging threats and create a \n",
      "safer digital environment for generations  to come. So let us stand united in our commitment \n",
      "to cybersecurity. Let us work together to build a future where our digital lives are secure, our \n",
      "privacy is respected, and our society thrives in the digital age.  \n",
      " \n",
      " \n",
      "\n",
      "Summarized Document:\n",
      "a student at the university of Colorado is pursuing a master's in cybersecurity . a cyberattack can be severe, ranging from financial loss to the compromise of sensitive information . \"it's not just about defense; it's also about innovation,\" says advoca ting for policies that prioritize cybersecurity . we must work together to build a future where our digital lives are secure, privacy is respected, and society thrives in the digital age, he says - and we will do it  \n"
     ]
    }
   ],
   "source": [
    "import tkinter as tk\n",
    "from tkinter import filedialog\n",
    "import spacy\n",
    "import nltk\n",
    "from nltk.tokenize import sent_tokenize\n",
    "import PyPDF2\n",
    "from transformers import pipeline\n",
    "from transformers import AutoTokenizer, AutoModelForSeq2SeqLM\n",
    "nlp = spacy.load(\"en_core_web_sm\")\n",
    "\n",
    "def extract_text_from_pdf(file_path):\n",
    "    with open(file_path, 'rb') as file:\n",
    "        reader = PyPDF2.PdfReader(file)\n",
    "        text = \"\"\n",
    "        for page_num in range(len(reader.pages)):\n",
    "            page = reader.pages[page_num]\n",
    "            text += page.extract_text()\n",
    "    return text\n",
    "\n",
    "def mask_pii(text):\n",
    "    pii_labels = [\"PERSON\", \"ORG\", \"DATE\", \"TIME\", \"LOCATION\", \"CARDINAL\"]\n",
    "    doc = nlp(text)\n",
    "    for ent in doc.ents:\n",
    "        if ent.label_ in pii_labels:\n",
    "            text = text.replace(ent.text, \"<REDACTED>\")\n",
    "    return text\n",
    "\n",
    "\n",
    "# Initialize the summarization pipeline\n",
    "tokenizer = AutoTokenizer.from_pretrained(\"t5-base\")\n",
    "model = AutoModelForSeq2SeqLM.from_pretrained(\"t5-base\")\n",
    "summarization_pipeline = pipeline(\"summarization\", model=model, tokenizer=tokenizer)\n",
    "\n",
    "def summarize_document(text):\n",
    "    text_length = len(text.split())\n",
    "    \n",
    "    max_length = min(2 * text_length, 1024)  \n",
    "    min_length = max(text_length // 2, 50)  \n",
    "    \n",
    "    summary = summarization_pipeline(text, max_length=max_length, min_length=min_length, do_sample=False)[0]['summary_text']\n",
    "    return summary\n",
    "\n",
    "\n",
    "def process_document(file_path):\n",
    "    if file_path.lower().endswith('.pdf'):\n",
    "        original_text = extract_text_from_pdf(file_path)\n",
    "    else:\n",
    "        with open(file_path, 'r') as file:\n",
    "            original_text = file.read()\n",
    "    \n",
    "    masked_text = mask_pii(original_text)\n",
    "    summarized_text = summarize_document(original_text)\n",
    "    \n",
    "    print(\"Original Document with Masked PII:\")\n",
    "    print(masked_text)\n",
    "    print(\"\\nSummarized Document:\")\n",
    "    print(summarized_text)\n",
    "    \n",
    "    display_gui(summarized_text)\n",
    "\n",
    "def display_gui(summary):\n",
    "    root = tk.Tk()\n",
    "    root.title(\"SODAS\")\n",
    "    root.geometry(\"600x400\")  \n",
    "\n",
    "    root.configure(bg = \"#e1d5e7\") \n",
    "\n",
    "    label = tk.Label(root, text=\"Secure Summary:\", bg=\"#f0f0f0\", fg=\"black\", font=(\"Arial\", 16, \"bold\"))  \n",
    "\n",
    "    text = tk.Text(root, bg=\"white\", fg=\"black\", font=(\"Arial\", 14))  \n",
    "    text.insert(tk.END, summary)\n",
    "    text.pack(expand=True, fill=\"both\", padx=20, pady=5)  \n",
    "\n",
    "    root.mainloop()\n",
    "\n",
    "def main():\n",
    "    file_path = filedialog.askopenfilename()\n",
    "    if file_path:\n",
    "        process_document(file_path)\n",
    "\n",
    "if __name__ == \"__main__\":\n",
    "    main()"
   ]
  },
  {
   "cell_type": "code",
   "execution_count": 1,
   "id": "db1bf960",
   "metadata": {},
   "outputs": [],
   "source": [
    "#pip install rouge-score"
   ]
  },
  {
   "cell_type": "markdown",
   "id": "cca2745c",
   "metadata": {},
   "source": [
    "# USE CASE 1"
   ]
  },
  {
   "cell_type": "code",
   "execution_count": 8,
   "id": "a7213e58",
   "metadata": {},
   "outputs": [
    {
     "name": "stdout",
     "output_type": "stream",
     "text": [
      "{'rouge1': Score(precision=0.8807339449541285, recall=0.8421052631578947, fmeasure=0.8609865470852017), 'rouge2': Score(precision=0.6666666666666666, recall=0.6371681415929203, fmeasure=0.6515837104072398), 'rougeL': Score(precision=0.8165137614678899, recall=0.7807017543859649, fmeasure=0.7982062780269058)}\n"
     ]
    }
   ],
   "source": [
    "from rouge_score import rouge_scorer\n",
    "\n",
    "# Generated summary from your code\n",
    "generated_summary = \"\"\"\n",
    "As a diligent banker, I, Priyanka Prakash Katariya, prioritize safeguarding sensitive customer data, including personally identifiable information (PII), such as social security numbers and addresses, in Bengaluru. Employing pseudonymization and encryption techniques, I ensure data security. Through pseudonymization, sensitive details like social security numbers are replaced with unique identifiers, enhancing security. Encryption further fortifies data protection during transmission and storage, offering peace of mind to customers and the bank. Stringent access controls, multi-factor authentication, and employee training reinforce our commitment to data privacy. Exploring privacy-enhancing technologies like federated learning and differential privacy, I strike a balance between innovation and data protection in the evolving landscape of banking.\"\"\"\n",
    "\n",
    "# Reference summary (gold standard)\n",
    "reference_summary = \"As a committed banker in Bengaluru, I, Priyanka Prakash Katariya, prioritize the protection of sensitive customer data, including personally identifiable information (PII) such as social security numbers and addresses. I employ pseudonymization and encryption methods to ensure data security. Through pseudonymization, sensitive details like social security numbers are substituted with unique identifiers, enhancing security. Encryption further strengthens data protection during transmission and storage, providing assurance to both customers and the bank. Rigorous access controls, multi-factor authentication, and ongoing employee training underscore our dedication to data privacy. Additionally, I explore privacy-enhancing technologies such as federated learning and differential privacy to strike a balance between innovation and data protection in the dynamic banking landscape.\"\n",
    "# Initialize the ROUGE scorer\n",
    "scorer = rouge_scorer.RougeScorer(['rouge1', 'rouge2', 'rougeL'], use_stemmer=True)\n",
    "\n",
    "# Calculate ROUGE scores\n",
    "scores = scorer.score(reference_summary, generated_summary)\n",
    "\n",
    "# Print ROUGE scores\n",
    "print(scores)\n"
   ]
  },
  {
   "cell_type": "code",
   "execution_count": 2,
   "id": "dcd43c5e",
   "metadata": {},
   "outputs": [
    {
     "name": "stdout",
     "output_type": "stream",
     "text": [
      "Tokenized Text: ['As', 'a', 'diligent', 'banker', ',', 'I', ',', 'Priyanka', 'Prakash', 'Katariya', ',', 'prioritize', 'safeguarding', 'sensitive', 'customer', 'data', ',', 'including', 'personally', 'identifiable', 'information', '(', 'PII', ')', ',', 'such', 'as', 'social', 'security', 'numbers', 'and', 'addresses', ',', 'in', 'Bengaluru', '.', 'Employing', 'pseudonymization', 'and', 'encryption', 'techniques', ',', 'I', 'ensure', 'data', 'security', '.', 'Through', 'pseudonymization', ',', 'sensitive', 'details', 'like', 'social', 'security', 'numbers', 'are', 'replaced', 'with', 'unique', 'identifiers', ',', 'enhancing', 'security', '.', 'Encryption', 'further', 'fortifies', 'data', 'protection', 'during', 'transmission', 'and', 'storage', ',', 'offering', 'peace', 'of', 'mind', 'to', 'customers', 'and', 'the', 'bank', '.', 'Stringent', 'access', 'controls', ',', 'multi-factor', 'authentication', ',', 'and', 'employee', 'training', 'reinforce', 'our', 'commitment', 'to', 'data', 'privacy', '.', 'Exploring', 'privacy-enhancing', 'technologies', 'like', 'federated', 'learning', 'and', 'differential', 'privacy', ',', 'I', 'strike', 'a', 'balance', 'between', 'innovation', 'and', 'data', 'protection', 'in', 'the', 'evolving', 'landscape', 'of', 'banking', '.']\n"
     ]
    }
   ],
   "source": [
    "import nltk\n",
    "from nltk.tokenize import word_tokenize\n",
    "\n",
    "# Sample text\n",
    "text1 = \"As a diligent banker, I, Priyanka Prakash Katariya, prioritize safeguarding sensitive customer data, including personally identifiable information (PII), such as social security numbers and addresses, in Bengaluru. Employing pseudonymization and encryption techniques, I ensure data security. Through pseudonymization, sensitive details like social security numbers are replaced with unique identifiers, enhancing security. Encryption further fortifies data protection during transmission and storage, offering peace of mind to customers and the bank. Stringent access controls, multi-factor authentication, and employee training reinforce our commitment to data privacy. Exploring privacy-enhancing technologies like federated learning and differential privacy, I strike a balance between innovation and data protection in the evolving landscape of banking.\"\n",
    "\n",
    "# Tokenize the text\n",
    "generated_sum = word_tokenize(text1)\n",
    "\n",
    "print(\"Tokenized Text:\", generated_sum)"
   ]
  },
  {
   "cell_type": "code",
   "execution_count": 5,
   "id": "534a83af",
   "metadata": {},
   "outputs": [
    {
     "name": "stdout",
     "output_type": "stream",
     "text": [
      "Tokenized Text: ['As', 'a', 'committed', 'banker', 'in', 'Bengaluru', ',', 'I', ',', 'Priyanka', 'Prakash', 'Katariya', ',', 'prioritize', 'the', 'protection', 'of', 'sensitive', 'customer', 'data', ',', 'including', 'personally', 'identifiable', 'information', '(', 'PII', ')', 'such', 'as', 'social', 'security', 'numbers', 'and', 'addresses', '.', 'I', 'employ', 'pseudonymization', 'and', 'encryption', 'methods', 'to', 'ensure', 'data', 'security', '.', 'Through', 'pseudonymization', ',', 'sensitive', 'details', 'like', 'social', 'security', 'numbers', 'are', 'substituted', 'with', 'unique', 'identifiers', ',', 'enhancing', 'security', '.', 'Encryption', 'further', 'strengthens', 'data', 'protection', 'during', 'transmission', 'and', 'storage', ',', 'providing', 'assurance', 'to', 'both', 'customers', 'and', 'the', 'bank', '.', 'Rigorous', 'access', 'controls', ',', 'multi-factor', 'authentication', ',', 'and', 'ongoing', 'employee', 'training', 'underscore', 'our', 'dedication', 'to', 'data', 'privacy', '.', 'Additionally', ',', 'I', 'explore', 'privacy-enhancing', 'technologies', 'such', 'as', 'federated', 'learning', 'and', 'differential', 'privacy', 'to', 'strike', 'a', 'balance', 'between', 'innovation', 'and', 'data', 'protection', 'in', 'the', 'dynamic', 'banking', 'landscape', '.']\n"
     ]
    }
   ],
   "source": [
    "import nltk\n",
    "from nltk.tokenize import word_tokenize\n",
    "\n",
    "# Sample text\n",
    "text2 = \"As a committed banker in Bengaluru, I, Priyanka Prakash Katariya, prioritize the protection of sensitive customer data, including personally identifiable information (PII) such as social security numbers and addresses. I employ pseudonymization and encryption methods to ensure data security. Through pseudonymization, sensitive details like social security numbers are substituted with unique identifiers, enhancing security. Encryption further strengthens data protection during transmission and storage, providing assurance to both customers and the bank. Rigorous access controls, multi-factor authentication, and ongoing employee training underscore our dedication to data privacy. Additionally, I explore privacy-enhancing technologies such as federated learning and differential privacy to strike a balance between innovation and data protection in the dynamic banking landscape.\"\n",
    "# Tokenize the text\n",
    "ref_sum = word_tokenize(text2)\n",
    "\n",
    "print(\"Tokenized Text:\", ref_sum)"
   ]
  },
  {
   "cell_type": "code",
   "execution_count": 2,
   "id": "578d0a20",
   "metadata": {},
   "outputs": [
    {
     "name": "stdout",
     "output_type": "stream",
     "text": [
      "Summarized Text: Priyanka Prakash Katariya, a dedicated banker, is a dedicated banker. she is entrusted with confidential information such as social security numbers, account details, addresses. a hypothetical social security number would be pseudonymized to a unique identifier such as \"ABC123,\" adding an extra layer of security to sensitive information. if unauthorized individuals gain access to our systems, they cannot decipher the original data without the appropriate decryption keys\n"
     ]
    }
   ],
   "source": [
    "from transformers import T5ForConditionalGeneration, T5Tokenizer\n",
    "\n",
    "def summarize_text(text):\n",
    "    model = T5ForConditionalGeneration.from_pretrained(\"t5-small\")\n",
    "    tokenizer = T5Tokenizer.from_pretrained(\"t5-small\")\n",
    "\n",
    "    inputs = tokenizer.encode(\"summarize: \" + text, return_tensors=\"pt\", max_length=512, truncation=True)\n",
    "\n",
    "    summary_ids = model.generate(inputs, max_length=250, min_length=100, length_penalty=2.0, num_beams=4, early_stopping=True)\n",
    "\n",
    "    summarized_text = tokenizer.decode(summary_ids[0], skip_special_tokens=True)\n",
    "    return summarized_text\n",
    "\n",
    "input_text = \"\"\"As a dedicated banker, I am Priyanka Prakash Katariya, my phone number is 9890699655 and I live in Bengaluru. I understand the critical importance of safeguarding sensitive customer data, including personally identifiable information (PII), from potential threats and breaches. Every day, I am entrusted with confidential information such as social security numbers, account details, and addresses, which are essential for providing personalized financial services to our valued customers. However, with great trust comes great responsibility, and it is my duty to ensure that this information remains secure and protected at all times.\n",
    "One of the most effective strategies I employ to protect PII is pseudonymization. For instance, instead of storing customer names and social security numbers in plain text, I pseudonymize this information using encryption techniques. This ensures that even if unauthorized individuals gain access to our systems, they cannot decipher the original data without the appropriate decryption keys. For example, a hypothetical social security number such as 123-45-6789 would be pseudonymized to a unique identifier such as \"ABC123,\" adding an extra layer of security to sensitive information. Encryption is another crucial tool in my arsenal for safeguarding PII. By encrypting sensitive data both in transit and at rest, I ensure that even if it falls into the wrong hands, it remains indecipherable without the proper decryption keys. This not only protects customer information from interception during transmission but also secures it against unauthorized access to our storage systems. For instance, customer account numbers and transaction details are encrypted using robust encryption algorithms, providing peace of mind to both our customers and the bank. In addition to technical safeguards, I implement stringent access controls to restrict the availability of sensitive PII to authorized personnel only. Role-based access control (RBAC) systems enable me to assign specific privileges and permissions to individuals based on their roles and responsibilities within the organization. Furthermore, multi-factor authentication (MFA) mechanisms such as biometric verification and one-time passwords add an extra layer of security, ensuring that only authorized personnel can access sensitive systems and data. As part of my commitment to data privacy and security, I continuously invest in employee training and awareness programs to educate staff about the importance of handling PII responsibly. Employees undergo regular training sessions on best practices for data security, recognizing potential security threats, and responding effectively to data breaches or incidents. By fostering a culture of security awareness and accountability, I empower my team to uphold the highest standards of data privacy and protection. As technology evolves, so do the challenges and opportunities in data privacy. The rise of artificial intelligence (AI) and machine learning (ML) technologies presents both risks and rewards for data privacy in banking. While AI and ML algorithms can enhance fraud detection and customer service capabilities, they also require access to large volumes of data, raising concerns about privacy and consent. To address these challenges, I explore privacy-enhancing technologies such as federated learning and differential privacy. Federated learning allows for collaborative model training across distributed datasets without centralizing data, while differential privacy introduces noise or randomness to query responses to protect sensitive information. By leveraging these technologies, I ensure that customer data remains protected while still enabling innovative solutions for fraud detection and customer service.\"\"\"\n",
    "summary = summarize_text(input_text)\n",
    "print(\"Summarized Text:\", summary)\n"
   ]
  },
  {
   "cell_type": "code",
   "execution_count": 12,
   "id": "7e74c052",
   "metadata": {},
   "outputs": [],
   "source": [
    "#pip install sentencepiece"
   ]
  },
  {
   "cell_type": "markdown",
   "id": "b3824148",
   "metadata": {},
   "source": [
    "# USE CASE 1"
   ]
  },
  {
   "cell_type": "code",
   "execution_count": 1,
   "id": "d622c2f1",
   "metadata": {},
   "outputs": [
    {
     "name": "stdout",
     "output_type": "stream",
     "text": [
      "{'rouge1': Score(precision=0.6666666666666666, recall=0.5789473684210527, fmeasure=0.619718309859155), 'rouge2': Score(precision=0.29591836734693877, recall=0.25663716814159293, fmeasure=0.2748815165876778), 'rougeL': Score(precision=0.42424242424242425, recall=0.3684210526315789, fmeasure=0.3943661971830986)}\n"
     ]
    }
   ],
   "source": [
    "from rouge_score import rouge_scorer\n",
    "\n",
    "# Generated summary from your code\n",
    "generated_summary_1 = \"\"\"As a dedicated banker, I understand the critical importance of safeguarding sensitive customer data. Employing strategies like pseudonymization and encryption, I protect personally identifiable information (PII) such as social security numbers and account details. Through stringent access controls and multi-factor authentication, I ensure that only authorized personnel can access sensitive systems and data. I also invest in employee training programs to foster a culture of security awareness and accountability. As technology evolves, I explore privacy-enhancing technologies like federated learning and differential privacy to address challenges in data privacy, ensuring customer data remains protected while enabling innovative solutions.\"\"\"\n",
    "\n",
    "reference_summary_1 = \"As a committed banker in Bengaluru, I, Priyanka Prakash Katariya, prioritize the protection of sensitive customer data, including personally identifiable information (PII) such as social security numbers and addresses. I employ pseudonymization and encryption methods to ensure data security. Through pseudonymization, sensitive details like social security numbers are substituted with unique identifiers, enhancing security. Encryption further strengthens data protection during transmission and storage, providing assurance to both customers and the bank. Rigorous access controls, multi-factor authentication, and ongoing employee training underscore our dedication to data privacy. Additionally, I explore privacy-enhancing technologies such as federated learning and differential privacy to strike a balance between innovation and data protection in the dynamic banking landscape.\"\n",
    "\n",
    "# Initialize the ROUGE scorer\n",
    "scorer = rouge_scorer.RougeScorer(['rouge1', 'rouge2', 'rougeL'], use_stemmer=True)\n",
    "\n",
    "# Calculate ROUGE scores\n",
    "scores = scorer.score(reference_summary_1, generated_summary_1)\n",
    "\n",
    "# Print ROUGE scores\n",
    "print(scores)\n"
   ]
  },
  {
   "cell_type": "markdown",
   "id": "8fb84de2",
   "metadata": {},
   "source": [
    "# USE CASE 2"
   ]
  },
  {
   "cell_type": "code",
   "execution_count": 8,
   "id": "f370be48",
   "metadata": {},
   "outputs": [
    {
     "name": "stdout",
     "output_type": "stream",
     "text": [
      "{'rouge1': Score(precision=0.8461538461538461, recall=0.8571428571428571, fmeasure=0.8516129032258064), 'rouge2': Score(precision=0.7662337662337663, recall=0.7763157894736842, fmeasure=0.7712418300653594), 'rougeL': Score(precision=0.8461538461538461, recall=0.8571428571428571, fmeasure=0.8516129032258064)}\n"
     ]
    }
   ],
   "source": [
    "from rouge_score import rouge_scorer\n",
    "\n",
    "# Generated summary from your code\n",
    "generated_summary_2 = \"a student at the university of Colorado is pursuing a master's in cybersecurity . a cyberattack can be severe, ranging from financial loss to the compromise of sensitive information . it's not just about defense; it's also about innovation, says advocating for policies that prioritize cybersecurity . we must work together to build a future where our digital lives are secure, privacy is respected, and society thrives in the digital age, he says - and we will do it\"\n",
    "reference_summary_2 = \"a student at the university of Colorado doing masters in cybersecurity says that cybersecurity and attacks are serious, ranging from loss of finances to loss of sensitive information . it's not just about defense; it's also about innovation, says advocating for policies that prioritize cybersecurity . we must work together to build a future where our digital lives are secure, privacy is respected, and society thrives in the digital age, he says - and we will do it\"\n",
    "scorer = rouge_scorer.RougeScorer(['rouge1', 'rouge2', 'rougeL'], use_stemmer=True)\n",
    "\n",
    "# Calculate ROUGE scores\n",
    "scores = scorer.score(reference_summary_2, generated_summary_2)\n",
    "\n",
    "# Print ROUGE scores\n",
    "print(scores)"
   ]
  },
  {
   "cell_type": "markdown",
   "id": "1bd5b224",
   "metadata": {},
   "source": [
    "# USE CASE 3"
   ]
  },
  {
   "cell_type": "code",
   "execution_count": 11,
   "id": "e073cae4",
   "metadata": {},
   "outputs": [
    {
     "name": "stdout",
     "output_type": "stream",
     "text": [
      "{'rouge1': Score(precision=0.97, recall=0.97, fmeasure=0.97), 'rouge2': Score(precision=0.9595959595959596, recall=0.9595959595959596, fmeasure=0.9595959595959596), 'rougeL': Score(precision=0.97, recall=0.97, fmeasure=0.97)}\n"
     ]
    }
   ],
   "source": [
    "from rouge_score import rouge_scorer\n",
    "\n",
    "generated_summary_3 = \"The power of document summarization is a transformative tool in our information -driven world . Janice Doe is a busy executive, working in google, tas ked with staying abreast of  industry trends, market analysis, and competitor strategies . With just a click of a button, lengthy documents are condensed into concise summaries, highlighting the most relevant information . Suddenly, Janice can grasp the essence of complex reports in a fraction of the time, enabling her to make informed decisions swiftly and confidently . She now has the bandwidth to delve deeper into critical issues, explore innovative strategies,  and drive meaningful change within her organization.\"\n",
    "\n",
    "reference_summary_3 = \"Document summarization's powers show a tranformation in our data and information driven tool . Janice Doe is working in google, she is very busy and is tasked with being up to date to industry trends, competitor strategies and analysis of the market . Lengthy documents are condensed into concise summaries, with just a click of a button, highlighting the most relevant information . Suddenly, Janice can grasp the essence of complex reports in a fraction of the time, enabling her to make informed decisions swiftly and confidently . She now has the bandwidth to delve deeper into critical issues, explore innovative strategies,  and drive meaningful change within her organization.\"\n",
    "\n",
    "scorer = rouge_scorer.RougeScorer(['rouge1', 'rouge2', 'rougeL'], use_stemmer=True)\n",
    "\n",
    "# Calculate ROUGE scores\n",
    "scores = scorer.score(reference_summary_3, generated_summary_3)\n",
    "\n",
    "# Print ROUGE scores\n",
    "print(scores)"
   ]
  },
  {
   "cell_type": "code",
   "execution_count": 16,
   "id": "35f7dd8a",
   "metadata": {},
   "outputs": [
    {
     "data": {
      "image/png": "[encoded data removed]",
      "text/plain": [
       "<Figure size 1000x1500 with 3 Axes>"
      ]
     },
     "metadata": {},
     "output_type": "display_data"
    }
   ],
   "source": [
    "import matplotlib.pyplot as plt\n",
    "\n",
    "# Define the data from the tables\n",
    "use_cases = ['Use Case 1', 'Use Case 2', 'Use Case 3']\n",
    "rouge_measures = ['ROUGE 1', 'ROUGE 2', 'ROUGE L']\n",
    "precision = [[0.88, 0.70, 0.81], [0.84, 0.76, 0.84], [0.97, 0.96, 0.97]]\n",
    "recall = [[0.84, 0.78, 0.78], [0.85, 0.77, 0.85], [0.96, 0.96, 0.95]]\n",
    "f1_measure = [[0.86, 0.74, 0.79], [0.85, 0.77, 0.85], [0.97, 0.95, 0.97]]\n",
    "\n",
    "# Plotting\n",
    "fig, axes = plt.subplots(3, 1, figsize=(10, 15), sharex=True)\n",
    "for i in range(3):\n",
    "    axes[i].bar(rouge_measures, precision[i], label='Precision')\n",
    "    axes[i].bar(rouge_measures, recall[i], bottom=precision[i], label='Recall')\n",
    "    axes[i].bar(rouge_measures, f1_measure[i], bottom=[sum(x) for x in zip(precision[i], recall[i])], label='F1 Measure')\n",
    "\n",
    "    axes[i].set_ylabel('Score')\n",
    "    axes[i].set_title(use_cases[i])\n",
    "    axes[i].legend()\n",
    "\n",
    "plt.xlabel('ROUGE Measures')\n",
    "plt.tight_layout()\n",
    "plt.show()\n"
   ]
  }
 ],
 "metadata": {
  "kernelspec": {
   "display_name": "Python 3 (ipykernel)",
   "language": "python",
   "name": "python3"
  },
  "language_info": {
   "codemirror_mode": {
    "name": "ipython",
    "version": 3
   },
   "file_extension": ".py",
   "mimetype": "text/x-python",
   "name": "python",
   "nbconvert_exporter": "python",
   "pygments_lexer": "ipython3",
   "version": "3.11.5"
  }
 },
 "nbformat": 4,
 "nbformat_minor": 5
}
