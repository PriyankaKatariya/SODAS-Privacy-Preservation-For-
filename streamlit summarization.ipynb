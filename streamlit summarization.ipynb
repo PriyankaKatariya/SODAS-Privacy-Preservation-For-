{
 "cells": [
  {
   "cell_type": "code",
   "execution_count": 7,
   "id": "debc85c7",
   "metadata": {},
   "outputs": [
    {
     "name": "stderr",
     "output_type": "stream",
     "text": [
      "2024-04-12 21:10:40.718 \n",
      "  \u001b[33m\u001b[1mWarning:\u001b[0m to view this Streamlit app on a browser, run it with the following\n",
      "  command:\n",
      "\n",
      "    streamlit run /Users/localadmin/anaconda3/lib/python3.11/site-packages/ipykernel_launcher.py [ARGUMENTS]\n"
     ]
    }
   ],
   "source": [
    "import streamlit as st\n",
    "from txtai.pipeline import Summary, Textractor\n",
    "from PyPDF2 import PdfReader\n",
    "\n",
    "st.set_page_config(layout=\"wide\")\n",
    "\n",
    "@st.cache_resource\n",
    "def text_summary(text, maxlength=None):\n",
    "    #create summary instance\n",
    "    summary = Summary()\n",
    "    text = (text)\n",
    "    result = summary(text)\n",
    "    return result\n",
    "\n",
    "def extract_text_from_pdf(file_path):\n",
    "    # Open the PDF file using PyPDF2\n",
    "    with open(file_path, \"rb\") as f:\n",
    "        reader = PdfReader(f)\n",
    "        page = reader.pages[0]\n",
    "        text = page.extract_text()\n",
    "    return text\n",
    "\n",
    "choice = st.sidebar.selectbox(\"Select your choice\", [\"Summarize Text\", \"Summarize Document\"])\n",
    "\n",
    "if choice == \"Summarize Text\":\n",
    "    st.subheader(\"Summarize Text using txtai\")\n",
    "    input_text = st.text_area(\"Enter your text here\")\n",
    "    if input_text is not None:\n",
    "        if st.button(\"Summarize Text\"):\n",
    "            col1, col2 = st.columns([1,1])\n",
    "            with col1:\n",
    "                st.markdown(\"**Your Input Text**\")\n",
    "                st.info(input_text)\n",
    "            with col2:\n",
    "                st.markdown(\"**Summary Result**\")\n",
    "                result = text_summary(input_text)\n",
    "                st.success(result)\n",
    "\n",
    "elif choice == \"Summarize Document\":\n",
    "    st.subheader(\"Summarize Document using txtai\")\n",
    "    input_file = st.file_uploader(\"Upload your document here\", type=['pdf'])\n",
    "    if input_file is not None:\n",
    "        if st.button(\"Summarize Document\"):\n",
    "            with open(\"doc_file.pdf\", \"wb\") as f:\n",
    "                f.write(input_file.getbuffer())\n",
    "            col1, col2 = st.columns([1,1])\n",
    "            with col1:\n",
    "                st.info(\"File uploaded successfully\")\n",
    "                extracted_text = extract_text_from_pdf(\"doc_file.pdf\")\n",
    "                st.markdown(\"**Extracted Text is Below:**\")\n",
    "                st.info(extracted_text)\n",
    "            with col2:\n",
    "                st.markdown(\"**Summary Result**\")\n",
    "                text = extract_text_from_pdf(\"doc_file.pdf\")\n",
    "                doc_summary = text_summary(text)\n",
    "                st.success(doc_summary)\n",
    "                "
   ]
  },
  {
   "cell_type": "code",
   "execution_count": 3,
   "id": "f8617a7f",
   "metadata": {},
   "outputs": [],
   "source": [
    "#pip install txtai"
   ]
  },
  {
   "cell_type": "code",
   "execution_count": 6,
   "id": "f35641fe",
   "metadata": {},
   "outputs": [],
   "source": [
    "#pip install PyPDF2"
   ]
  },
  {
   "cell_type": "code",
   "execution_count": null,
   "id": "8aeedf18",
   "metadata": {},
   "outputs": [],
   "source": []
  }
 ],
 "metadata": {
  "kernelspec": {
   "display_name": "Python 3 (ipykernel)",
   "language": "python",
   "name": "python3"
  },
  "language_info": {
   "codemirror_mode": {
    "name": "ipython",
    "version": 3
   },
   "file_extension": ".py",
   "mimetype": "text/x-python",
   "name": "python",
   "nbconvert_exporter": "python",
   "pygments_lexer": "ipython3",
   "version": "3.11.5"
  }
 },
 "nbformat": 4,
 "nbformat_minor": 5
}
